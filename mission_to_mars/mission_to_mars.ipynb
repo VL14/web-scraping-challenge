{
 "cells": [
  {
   "cell_type": "code",
   "execution_count": 3,
   "metadata": {},
   "outputs": [],
   "source": [
    "from bs4 import BeautifulSoup as bs\n",
    "import pandas as pd \n",
    "from selenium import webdriver\n",
    "import requests\n",
    "import time"
   ]
  },
  {
   "cell_type": "markdown",
   "metadata": {},
   "source": [
    "# NASA Mars News Scrape #"
   ]
  },
  {
   "cell_type": "code",
   "execution_count": 37,
   "metadata": {},
   "outputs": [],
   "source": [
    "# Retrieve NASA Mars News page with the requests module\n",
    "url = 'http://mars.nasa.gov/news/'\n",
    "response = requests.get(url)"
   ]
  },
  {
   "cell_type": "code",
   "execution_count": 39,
   "metadata": {
    "tags": [
     "outputPrepend"
    ]
   },
   "outputs": [
    {
     "output_type": "stream",
     "name": "stdout",
     "text": "t;:&quot;&quot;},&quot;highlight_current&quot;:{&quot;highlight&quot;:true,&quot;current_id&quot;:83,&quot;parent_ids&quot;:[]},&quot;search_submit&quot;:&quot;/search/&quot;}\">\n         </nav>\n        </div>\n       </div>\n      </div>\n     </header>\n    </div>\n    <div id=\"sticky_nav_spacer\">\n    </div>\n    <div id=\"page\">\n     <div class=\"page_cover\">\n     </div>\n     <!-- title to go in the page_header -->\n     <div class=\"header_mask\">\n      <section class=\"content_page module\">\n      </section>\n     </div>\n     <div class=\"grid_list_page module content_page\">\n      <div class=\"grid_layout\">\n       <article>\n        <header id=\"page_header\">\n        </header>\n        <div class=\"react_grid_list grid_list_container\" data-react-cache-id=\"GridListPage-0\" data-react-class=\"GridListPage\" data-react-props='{\"left_column\":false,\"class_name\":\"\",\"default_view\":\"list_view\",\"model\":\"news_items\",\"view_toggle\":false,\"search\":\"true\",\"list_item\":\"News\",\"title\":\"News\",\"categories\":[\"19,165,184,204\"],\"order\":\"publish_date desc,created_at desc\",\"no_items_text\":\"There are no items matching these criteria.\",\"site_title\":\"NASA’s Mars Exploration Program \",\"short_title\":\"Mars\",\"site_share_image\":\"/system/site_config_values/meta_share_images/1_142497main_PIA03154-200.jpg\",\"per_page\":null,\"filters\":\"[ [ \\\"date\\\", [ [ \\\"2020\\\", \\\"2020\\\" ], [ \\\"2019\\\", \\\"2019\\\" ], [ \\\"2018\\\", \\\"2018\\\" ], [ \\\"2017\\\", \\\"2017\\\" ], [ \\\"2016\\\", \\\"2016\\\" ], [ \\\"2015\\\", \\\"2015\\\" ], [ \\\"2014\\\", \\\"2014\\\" ], [ \\\"2013\\\", \\\"2013\\\" ], [ \\\"2012\\\", \\\"2012\\\" ], [ \\\"2011\\\", \\\"2011\\\" ], [ \\\"2010\\\", \\\"2010\\\" ], [ \\\"2009\\\", \\\"2009\\\" ], [ \\\"2008\\\", \\\"2008\\\" ], [ \\\"2007\\\", \\\"2007\\\" ], [ \\\"2006\\\", \\\"2006\\\" ], [ \\\"2005\\\", \\\"2005\\\" ], [ \\\"2004\\\", \\\"2004\\\" ], [ \\\"2003\\\", \\\"2003\\\" ], [ \\\"2002\\\", \\\"2002\\\" ], [ \\\"2001\\\", \\\"2001\\\" ], [ \\\"2000\\\", \\\"2000\\\" ] ], [ \\\"Latest\\\", \\\"\\\" ], false ], [ \\\"categories\\\", [ [ \\\"Feature Stories\\\", 165 ], [ \\\"Press Releases\\\", 19 ], [ \\\"Spotlights\\\", 184 ], [ \\\"Status Reports\\\", 204 ] ], [ \\\"All Categories\\\", \\\"\\\" ], false ] ]\",\"conditions\":null,\"scope_in_title\":true,\"options\":{\"blank_scope\":\"Latest\"},\"results_in_title\":false}'>\n        </div>\n       </article>\n      </div>\n     </div>\n     <section class=\"module suggested_features\">\n      <div class=\"grid_layout\">\n       <header>\n        <h2 class=\"module_title\">\n         You Might Also Like\n        </h2>\n       </header>\n       <section>\n        <script>\n         $(document).ready(function(){\n    $(\".features\").slick({\n      dots: false,\n      infinite: true,\n      speed: 300,\n      slide: '.features .slide',\n      slidesToShow: 3,\n      slidesToScroll: 3,\n      lazyLoad: 'ondemand',\n      centerMode: false,\n      arrows: true,\n      appendArrows: '.features .slick-nav',\n      appendDots: \".features .slick-nav\",\n      responsive: [{\"breakpoint\":953,\"settings\":{\"slidesToShow\":2,\"slidesToScroll\":2,\"centerMode\":false}},{\"breakpoint\":480,\"settings\":{\"slidesToShow\":1,\"slidesToScroll\":1,\"centerMode\":true,\"arrows\":false,\"centerPadding\":\"25px\"}}]\n    });\n  });\n        </script>\n        <div class=\"features\">\n         <div class=\"slide\">\n          <div class=\"image_and_description_container\">\n           <a href=\"/news/8645/mars-helicopter-attached-to-nasas-perseverance-rover/\">\n            <div class=\"rollover_description\">\n             <div class=\"rollover_description_inner\">\n              The team also fueled the rover's sky crane to get ready for this summer's history-making launch.\n             </div>\n             <div class=\"overlay_arrow\">\n              <img alt=\"More\" src=\"/assets/overlay-arrow.png\"/>\n             </div>\n            </div>\n            <img alt=\"Mars Helicopter Attached to NASA's Perseverance Rover\" class=\"img-lazy\" data-lazy=\"/system/news_items/list_view_images/8645_PIA23824-RoverWithHelicopter-32x24.jpg\" src=\"/assets/loading_320x240.png\"/>\n           </a>\n          </div>\n          <div class=\"content_title\">\n           <a href=\"/news/8645/mars-helicopter-attached-to-nasas-perseverance-rover/\">\n            Mars Helicopter Attached to NASA's Perseverance Rover\n           </a>\n          </div>\n         </div>\n         <div class=\"slide\">\n          <div class=\"image_and_description_container\">\n           <a href=\"/news/8641/nasas-perseverance-mars-rover-gets-its-wheels-and-air-brakes/\">\n            <div class=\"rollover_description\">\n             <div class=\"rollover_description_inner\">\n              After the rover was shipped from JPL to Kennedy Space Center, the team is getting closer to finalizing the spacecraft for launch later this summer.\n             </div>\n             <div class=\"overlay_arrow\">\n              <img alt=\"More\" src=\"/assets/overlay-arrow.png\"/>\n             </div>\n            </div>\n            <img alt=\"NASA's Perseverance Mars Rover Gets Its Wheels and Air Brakes\" class=\"img-lazy\" data-lazy=\"/system/news_items/list_view_images/8641_PIA-23821-320x240.jpg\" src=\"/assets/loading_320x240.png\"/>\n           </a>\n          </div>\n          <div class=\"content_title\">\n           <a href=\"/news/8641/nasas-perseverance-mars-rover-gets-its-wheels-and-air-brakes/\">\n            NASA's Perseverance Mars Rover Gets Its Wheels and Air Brakes\n           </a>\n          </div>\n         </div>\n         <div class=\"slide\">\n          <div class=\"image_and_description_container\">\n           <a href=\"/news/8634/109-million-names-now-aboard-nasas-perseverance-mars-rover/\">\n            <div class=\"rollover_description\">\n             <div class=\"rollover_description_inner\">\n              As part of NASA's 'Send Your Name to Mars' campaign, they've been stenciled onto three microchips along with essays from NASA's 'Name the Rover' contest. Next stop: Mars.\n             </div>\n             <div class=\"overlay_arrow\">\n              <img alt=\"More\" src=\"/assets/overlay-arrow.png\"/>\n             </div>\n            </div>\n            <img alt=\"10.9 Million Names Now Aboard NASA's Perseverance Mars Rover\" class=\"img-lazy\" data-lazy=\"/system/news_items/list_view_images/8634_PIA23769-320x240.jpg\" src=\"/assets/loading_320x240.png\"/>\n           </a>\n          </div>\n          <div class=\"content_title\">\n           <a href=\"/news/8634/109-million-names-now-aboard-nasas-perseverance-mars-rover/\">\n            10.9 Million Names Now Aboard NASA's Perseverance Mars Rover\n           </a>\n          </div>\n         </div>\n         <div class=\"slide\">\n          <div class=\"image_and_description_container\">\n           <a href=\"/news/8622/virginia-middle-school-student-earns-honor-of-naming-nasas-next-mars-rover/\">\n            <div class=\"rollover_description\">\n             <div class=\"rollover_description_inner\">\n              NASA chose a seventh-grader from Virginia as winner of the agency's \"Name the Rover\" essay contest. Alexander Mather's entry for \"Perseverance\" was voted tops among 28,000 entries.\n             </div>\n             <div class=\"overlay_arrow\">\n              <img alt=\"More\" src=\"/assets/overlay-arrow.png\"/>\n             </div>\n            </div>\n            <img alt=\"Virginia Middle School Student Earns Honor of Naming NASA's Next Mars Rover\" class=\"img-lazy\" data-lazy=\"/system/news_items/list_view_images/8622_1-PIA23764-RoverNamePlateonMars-320x240.jpg\" src=\"/assets/loading_320x240.png\"/>\n           </a>\n          </div>\n          <div class=\"content_title\">\n           <a href=\"/news/8622/virginia-middle-school-student-earns-honor-of-naming-nasas-next-mars-rover/\">\n            Virginia Middle School Student Earns Honor of Naming NASA's Next Mars Rover\n           </a>\n          </div>\n         </div>\n         <div class=\"slide\">\n          <div class=\"image_and_description_container\">\n           <a href=\"/news/8606/nasa-prepares-for-moon-and-mars-with-new-addition-to-its-deep-space-network/\">\n            <div class=\"rollover_description\">\n             <div class=\"rollover_description_inner\">\n              Robotic spacecraft will be able to communicate with the dish using radio waves and lasers.\n             </div>\n             <div class=\"overlay_arrow\">\n              <img alt=\"More\" src=\"/assets/overlay-arrow.png\"/>\n             </div>\n            </div>\n            <img alt=\"NASA Prepares for Moon and Mars With New Addition to Its Deep Space Network\" class=\"img-lazy\" data-lazy=\"/system/news_items/list_view_images/8606_list_image.jpg\" src=\"/assets/loading_320x240.png\"/>\n           </a>\n          </div>\n          <div class=\"content_title\">\n           <a href=\"/news/8606/nasa-prepares-for-moon-and-mars-with-new-addition-to-its-deep-space-network/\">\n            NASA Prepares for Moon and Mars With New Addition to Its Deep Space Network\n           </a>\n          </div>\n         </div>\n         <div class=\"slide\">\n          <div class=\"image_and_description_container\">\n           <a href=\"/news/8603/nasa-administrator-statement-on-moon-to-mars-initiative-fy-2021-budget/\">\n            <div class=\"rollover_description\">\n             <div class=\"rollover_description_inner\">\n              Jim Bridenstine addresses NASA's ambitious plans for the coming years, including Mars Sample Return.\n             </div>\n             <div class=\"overlay_arrow\">\n              <img alt=\"More\" src=\"/assets/overlay-arrow.png\"/>\n             </div>\n            </div>\n            <img alt=\"NASA Administrator Statement on Moon to Mars Initiative, FY 2021 Budget\" class=\"img-lazy\" data-lazy=\"/system/news_items/list_view_images/8603_list_image.jpg\" src=\"/assets/loading_320x240.png\"/>\n           </a>\n          </div>\n          <div class=\"content_title\">\n           <a href=\"/news/8603/nasa-administrator-statement-on-moon-to-mars-initiative-fy-2021-budget/\">\n            NASA Administrator Statement on Moon to Mars Initiative, FY 2021 Budget\n           </a>\n          </div>\n         </div>\n         <div class=\"grid_layout\">\n          <div class=\"slick-nav_container\">\n           <div class=\"slick-nav\">\n           </div>\n          </div>\n         </div>\n        </div>\n       </section>\n      </div>\n     </section>\n    </div>\n    <footer id=\"site_footer\">\n     <div class=\"grid_layout\">\n      <section class=\"upper_footer\">\n       <div class=\"share_newsletter_container\">\n        <div class=\"newsletter\">\n         <h2>\n          Get the Mars Newsletter\n         </h2>\n         <form action=\"/newsletter-subscribe\">\n          <input id=\"email\" name=\"email\" placeholder=\"enter email address\" type=\"email\" value=\"\"/>\n          <input data-disable-with=\"\" name=\"commit\" type=\"submit\" value=\"\"/>\n         </form>\n        </div>\n        <div class=\"share\">\n         <h2>\n          Follow the Journey\n         </h2>\n         <div class=\"social_icons\">\n          <!-- AddThis Button BEGIN -->\n          <div class=\"addthis_toolbox addthis_default_style addthis_32x32_style\">\n           <a addthis:userid=\"MarsCuriosity\" class=\"addthis_button_twitter_follow icon\">\n            <img alt=\"twitter\" src=\"/assets/twitter_icon@2x.png\"/>\n           </a>\n           <a addthis:userid=\"MarsCuriosity\" class=\"addthis_button_facebook_follow icon\">\n            <img alt=\"facebook\" src=\"/assets/facebook_icon@2x.png\"/>\n           </a>\n           <a addthis:userid=\"nasa\" class=\"addthis_button_instagram_follow icon\">\n            <img alt=\"instagram\" src=\"/assets/instagram_icon@2x.png\"/>\n           </a>\n           <a addthis:url=\"https://mars.nasa.gov/rss/api/?feed=news&amp;category=all&amp;feedtype=rss\" class=\"addthis_button_rss_follow icon\">\n            <img alt=\"rss\" src=\"/assets/rss_icon@2x.png\"/>\n           </a>\n          </div>\n         </div>\n         <script src=\"//s7.addthis.com/js/300/addthis_widget.js#pubid=ra-5a690e4c1320e328\">\n         </script>\n        </div>\n       </div>\n       <div class=\"gradient_line\">\n       </div>\n      </section>\n      <section class=\"sitemap\">\n       <div class=\"sitemap_directory\" id=\"sitemap_directory\">\n        <div class=\"sitemap_block\">\n         <div class=\"footer_sitemap_item\">\n          <h3 class=\"sitemap_title\">\n           <a href=\"/#red_planet\">\n            The Red Planet\n           </a>\n          </h3>\n          <ul>\n           <li>\n            <div class=\"global_subnav_container\">\n             <ul class=\"subnav\">\n              <li>\n               <a href=\"/#red_planet/0\" target=\"_self\">\n                Dashboard\n               </a>\n              </li>\n              <li>\n               <a href=\"/#red_planet/1\" target=\"_self\">\n                Science Goals\n               </a>\n              </li>\n              <li>\n               <a href=\"/#red_planet/2\" target=\"_self\">\n                The Planet\n               </a>\n              </li>\n              <li>\n               <a href=\"/#red_planet/3\" target=\"_self\">\n                Atmosphere\n               </a>\n              </li>\n              <li>\n               <a href=\"/#red_planet/4\" target=\"_self\">\n                Astrobiology\n               </a>\n              </li>\n              <li>\n               <a href=\"/#red_planet/5\" target=\"_self\">\n                Past, Present, Future, Timeline\n               </a>\n              </li>\n             </ul>\n            </div>\n           </li>\n          </ul>\n         </div>\n        </div>\n        <div class=\"sitemap_block\">\n         <div class=\"footer_sitemap_item\">\n          <h3 class=\"sitemap_title\">\n           <a href=\"/#mars_exploration_program\">\n            The Program\n           </a>\n          </h3>\n          <ul>\n           <li>\n            <div class=\"global_subnav_container\">\n             <ul class=\"subnav\">\n              <li>\n               <a href=\"/#mars_exploration_program/0\" target=\"_self\">\n                Mission Statement\n               </a>\n              </li>\n              <li>\n               <a href=\"/#mars_exploration_program/1\" target=\"_self\">\n                About the Program\n               </a>\n              </li>\n              <li>\n               <a href=\"/#mars_exploration_program/2\" target=\"_self\">\n                Organization\n               </a>\n              </li>\n              <li>\n               <a href=\"/#mars_exploration_program/3\" target=\"_self\">\n                Why Mars?\n               </a>\n              </li>\n              <li>\n               <a href=\"/#mars_exploration_program/4\" target=\"_self\">\n                Research Programs\n               </a>\n              </li>\n              <li>\n               <a href=\"/#mars_exploration_program/5\" target=\"_self\">\n                Planetary Resources\n               </a>\n              </li>\n              <li>\n               <a href=\"/#mars_exploration_program/6\" target=\"_self\">\n                Technologies\n               </a>\n              </li>\n             </ul>\n            </div>\n           </li>\n          </ul>\n         </div>\n        </div>\n        <div class=\"sitemap_block\">\n         <div class=\"footer_sitemap_item\">\n          <h3 class=\"sitemap_title\">\n           <a href=\"/#news_and_events\">\n            News &amp; Events\n           </a>\n          </h3>\n          <ul>\n           <li>\n            <div class=\"global_subnav_container\">\n             <ul class=\"subnav\">\n              <li class=\"current\">\n               <a href=\"/news\" target=\"_self\">\n                News\n               </a>\n              </li>\n              <li>\n               <a href=\"/events\" target=\"_self\">\n                Events\n               </a>\n              </li>\n             </ul>\n            </div>\n           </li>\n          </ul>\n         </div>\n        </div>\n        <div class=\"sitemap_block\">\n         <div class=\"footer_sitemap_item\">\n          <h3 class=\"sitemap_title\">\n           <a href=\"/#multimedia\">\n            Multimedia\n           </a>\n          </h3>\n          <ul>\n           <li>\n            <div class=\"global_subnav_container\">\n             <ul class=\"subnav\">\n              <li>\n               <a href=\"/multimedia/images/\" target=\"_self\">\n                Images\n               </a>\n              </li>\n              <li>\n               <a href=\"/multimedia/videos/\" target=\"_self\">\n                Videos\n               </a>\n              </li>\n              <li>\n               <a href=\"/multimedia/more-resources/\" target=\"_self\">\n                More Resources\n               </a>\n              </li>\n             </ul>\n            </div>\n           </li>\n          </ul>\n         </div>\n        </div>\n        <div class=\"sitemap_block\">\n         <div class=\"footer_sitemap_item\">\n          <h3 class=\"sitemap_title\">\n           <a href=\"/#missions_gallery_subnav\">\n            Missions\n           </a>\n          </h3>\n          <ul>\n           <li>\n            <div class=\"global_subnav_container\">\n             <ul class=\"subnav\">\n              <li>\n               <a href=\"/mars-exploration/missions/?category=167\" target=\"_self\">\n                Past\n               </a>\n              </li>\n              <li>\n               <a href=\"/mars-exploration/missions/?category=170\" target=\"_self\">\n                Present\n               </a>\n              </li>\n              <li>\n               <a href=\"/mars-exploration/missions/?category=171\" target=\"_self\">\n                Future\n               </a>\n              </li>\n              <li>\n               <a href=\"/mars-exploration/partners\" target=\"_self\">\n                International Partners\n               </a>\n              </li>\n             </ul>\n            </div>\n           </li>\n          </ul>\n         </div>\n        </div>\n        <div class=\"sitemap_block\">\n         <div class=\"footer_sitemap_item\">\n          <h3 class=\"sitemap_title\">\n           <a href=\"/#more\">\n            More\n           </a>\n          </h3>\n          <ul>\n           <li>\n            <div class=\"global_subnav_container\">\n             <ul class=\"subnav\">\n             </ul>\n            </div>\n           </li>\n          </ul>\n         </div>\n        </div>\n       </div>\n       <div class=\"gradient_line\">\n       </div>\n      </section>\n      <section class=\"lower_footer\">\n       <div class=\"nav_container\">\n        <nav>\n         <ul>\n          <li>\n           <a href=\"http://science.nasa.gov/\" target=\"_blank\">\n            NASA Science Mission Directorate\n           </a>\n          </li>\n          <li>\n           <a href=\"https://www.jpl.nasa.gov/copyrights.php\" target=\"_blank\">\n            Privacy\n           </a>\n          </li>\n          <li>\n           <a href=\"http://www.jpl.nasa.gov/imagepolicy/\" target=\"_blank\">\n            Image Policy\n           </a>\n          </li>\n          <li>\n           <a href=\"https://mars.nasa.gov/feedback/\" target=\"_self\">\n            Feedback\n           </a>\n          </li>\n         </ul>\n        </nav>\n       </div>\n       <div class=\"credits\">\n        <div class=\"footer_brands_top\">\n         <p>\n          Managed by the Mars Exploration Program and the Jet Propulsion Laboratory for NASA’s Science Mission Directorate\n         </p>\n        </div>\n        <!-- .footer_brands -->\n        <!-- %a.jpl{href: \"\", target: \"_blank\"}Institution -->\n        <!-- -->\n        <!-- %a.caltech{href: \"\", target: \"_blank\"}Institution -->\n        <!-- .staff -->\n        <!-- %p -->\n        <!-- - get_staff_for_category(get_field_from_admin_config(:web_staff_category_id)) -->\n        <!-- - @staff.each_with_index do |staff, idx| -->\n        <!-- - unless staff.is_in_footer == 0 -->\n        <!-- = staff.title + \": \" -->\n        <!-- - if staff.contact_link =~ /@/ -->\n        <!-- = mail_to staff.contact_link, staff.name, :subject => \"[#{@site_title}]\" -->\n        <!-- - elsif staff.contact_link.present? -->\n        <!-- = link_to staff.name, staff.contact_link -->\n        <!-- - else -->\n        <!-- = staff.name -->\n        <!-- - unless (idx + 1 == @staff.size) -->\n        <!-- %br -->\n       </div>\n      </section>\n     </div>\n    </footer>\n   </div>\n  </div>\n  <script id=\"_fed_an_ua_tag\" src=\"https://dap.digitalgov.gov/Universal-Federated-Analytics-Min.js?agency=NASA&amp;subagency=JPL-Mars-MEPJPL&amp;pua=UA-9453474-9,UA-118212757-11&amp;dclink=true&amp;sp=searchbox&amp;exts=tif,tiff,wav\" type=\"text/javascript\">\n  </script>\n </body>\n</html>\n\n"
    }
   ],
   "source": [
    "# Save page data into Soup\n",
    "soup = bs(response.text, \"html.parser\")\n",
    "print(soup.prettify())"
   ]
  },
  {
   "cell_type": "code",
   "execution_count": 42,
   "metadata": {},
   "outputs": [
    {
     "output_type": "execute_result",
     "data": {
      "text/plain": "[<div class=\"content_title\">\n <a href=\"/news/8645/mars-helicopter-attached-to-nasas-perseverance-rover/\">\n Mars Helicopter Attached to NASA's Perseverance Rover\n </a>\n </div>,\n <div class=\"content_title\">\n <a href=\"/news/8641/nasas-perseverance-mars-rover-gets-its-wheels-and-air-brakes/\">\n NASA's Perseverance Mars Rover Gets Its Wheels and Air Brakes\n </a>\n </div>,\n <div class=\"content_title\">\n <a href=\"/news/8634/109-million-names-now-aboard-nasas-perseverance-mars-rover/\">\n 10.9 Million Names Now Aboard NASA's Perseverance Mars Rover\n </a>\n </div>,\n <div class=\"content_title\">\n <a href=\"/news/8622/virginia-middle-school-student-earns-honor-of-naming-nasas-next-mars-rover/\">\n Virginia Middle School Student Earns Honor of Naming NASA's Next Mars Rover\n </a>\n </div>,\n <div class=\"content_title\">\n <a href=\"/news/8606/nasa-prepares-for-moon-and-mars-with-new-addition-to-its-deep-space-network/\">\n NASA Prepares for Moon and Mars With New Addition to Its Deep Space Network\n </a>\n </div>,\n <div class=\"content_title\">\n <a href=\"/news/8603/nasa-administrator-statement-on-moon-to-mars-initiative-fy-2021-budget/\">\n NASA Administrator Statement on Moon to Mars Initiative, FY 2021 Budget\n </a>\n </div>]"
     },
     "metadata": {},
     "execution_count": 42
    }
   ],
   "source": [
    "# Filter results to article data to find titles\n",
    "results = soup.find_all('div', class_=\"content_title\")\n",
    "results"
   ]
  },
  {
   "cell_type": "code",
   "execution_count": 51,
   "metadata": {},
   "outputs": [],
   "source": [
    "# Filter to the latest article on the site\n",
    "result_first = results[0]"
   ]
  },
  {
   "cell_type": "code",
   "execution_count": 54,
   "metadata": {},
   "outputs": [
    {
     "output_type": "execute_result",
     "data": {
      "text/plain": "\"Mars Helicopter Attached to NASA's Perseverance Rover\""
     },
     "metadata": {},
     "execution_count": 54
    }
   ],
   "source": [
    "# Scrape title of latest article\n",
    "title = result_first.a.string.strip()\n",
    "title"
   ]
  },
  {
   "cell_type": "code",
   "execution_count": 56,
   "metadata": {},
   "outputs": [
    {
     "output_type": "execute_result",
     "data": {
      "text/plain": "[<div class=\"rollover_description_inner\">\n The team also fueled the rover's sky crane to get ready for this summer's history-making launch.\n </div>,\n <div class=\"rollover_description_inner\">\n After the rover was shipped from JPL to Kennedy Space Center, the team is getting closer to finalizing the spacecraft for launch later this summer.\n </div>,\n <div class=\"rollover_description_inner\">\n As part of NASA's 'Send Your Name to Mars' campaign, they've been stenciled onto three microchips along with essays from NASA's 'Name the Rover' contest. Next stop: Mars.\n </div>,\n <div class=\"rollover_description_inner\">\n NASA chose a seventh-grader from Virginia as winner of the agency's \"Name the Rover\" essay contest. Alexander Mather's entry for \"Perseverance\" was voted tops among 28,000 entries. \n </div>,\n <div class=\"rollover_description_inner\">\n Robotic spacecraft will be able to communicate with the dish using radio waves and lasers.\n </div>,\n <div class=\"rollover_description_inner\">\n Jim Bridenstine addresses NASA's ambitious plans for the coming years, including Mars Sample Return.\n </div>]"
     },
     "metadata": {},
     "execution_count": 56
    }
   ],
   "source": [
    "# Filter results to find article summary\n",
    "results2 = soup.find_all('div', class_=\"rollover_description_inner\")\n",
    "results2"
   ]
  },
  {
   "cell_type": "code",
   "execution_count": 63,
   "metadata": {},
   "outputs": [
    {
     "output_type": "execute_result",
     "data": {
      "text/plain": "<div class=\"rollover_description_inner\">\nThe team also fueled the rover's sky crane to get ready for this summer's history-making launch.\n</div>"
     },
     "metadata": {},
     "execution_count": 63
    }
   ],
   "source": [
    "# Filter to the latest article summary\n",
    "result2_first = results2[0]\n",
    "result2_first"
   ]
  },
  {
   "cell_type": "code",
   "execution_count": 64,
   "metadata": {},
   "outputs": [
    {
     "output_type": "execute_result",
     "data": {
      "text/plain": "\"The team also fueled the rover's sky crane to get ready for this summer's history-making launch.\""
     },
     "metadata": {},
     "execution_count": 64
    }
   ],
   "source": [
    "# Scrape summary of latest article\n",
    "p = result2_first.string.strip()\n",
    "p"
   ]
  },
  {
   "cell_type": "code",
   "execution_count": 65,
   "metadata": {},
   "outputs": [
    {
     "output_type": "execute_result",
     "data": {
      "text/plain": "{'news_title': \"Mars Helicopter Attached to NASA's Perseverance Rover\",\n 'news_p': \"The team also fueled the rover's sky crane to get ready for this summer's history-making launch.\"}"
     },
     "metadata": {},
     "execution_count": 65
    }
   ],
   "source": [
    " # Store data in a dictionary\n",
    "    nasa_mars_news = {\n",
    "        \"news_title\": title,\n",
    "        \"news_p\": p\n",
    "    }\n",
    "\n",
    "    nasa_mars_news"
   ]
  },
  {
   "cell_type": "markdown",
   "metadata": {},
   "source": [
    "# JPL Mars Space Images Scrape"
   ]
  },
  {
   "cell_type": "code",
   "execution_count": 69,
   "metadata": {},
   "outputs": [],
   "source": [
    "# Retrieve JPL Mars page with the requests module\n",
    "url2 = 'https://www.jpl.nasa.gov/spaceimages/?search=&category=Mars'\n",
    "response2 = requests.get(url2)"
   ]
  },
  {
   "cell_type": "code",
   "execution_count": 71,
   "metadata": {
    "tags": [
     "outputPrepend"
    ]
   },
   "outputs": [
    {
     "output_type": "stream",
     "name": "stdout",
     "text": "          <div class=\"content_title\">\n             Olympia Undae\n            </div>\n            <div class=\"article_teaser_body\">\n             This image from NASAs Mars Odyssey shows Olympia Undae during north polar summer.\n            </div>\n           </div>\n          </div>\n         </a>\n        </li>\n        <li class=\"slide\">\n         <a class=\"fancybox\" data-description=\"This image from NASAs Mars Odyssey shows a section of Mamers Valles. The channel is nearly 1000 km long (600 miles).\" data-fancybox-group=\"images\" data-fancybox-href=\"/spaceimages/images/largesize/PIA23750_hires.jpg\" data-link=\"/spaceimages/details.php?id=PIA23750\" data-thumbnail=\"/spaceimages/images/wallpaper/PIA23750-640x350.jpg\" data-title=\"Mamers Valles\">\n          <div class=\"image_and_description_container\">\n           <div class=\"rollover_description\">\n            <h3 class=\"release_date\">\n             March 13, 2020\n            </h3>\n            <div class=\"item_tease_overlay\">\n             Mamers Valles\n            </div>\n            <div class=\"overlay_arrow\">\n             <img alt=\"more arrow\" src=\"/assets/images/overlay-arrow.png\"/>\n            </div>\n           </div>\n           <div class=\"img\">\n            <img alt=\"Mamers Valles\" class=\"thumb\" src=\"/spaceimages/images/wallpaper/PIA23750-640x350.jpg\" title=\"Mamers Valles\"/>\n           </div>\n           <div class=\"list_text_content\">\n            <div class=\"article_teaser_body\">\n             March 13, 2020\n            </div>\n            <div class=\"content_title\">\n             Mamers Valles\n            </div>\n            <div class=\"article_teaser_body\">\n             This image from NASAs Mars Odyssey shows a section of Mamers Valles. The channel is nearly 1000 km long (600 miles).\n            </div>\n           </div>\n          </div>\n         </a>\n        </li>\n       </ul>\n       <footer>\n        <div class=\"more_button\">\n         <a class=\"button\" href=\"\">\n          MORE\n         </a>\n        </div>\n       </footer>\n      </div>\n     </section>\n     <section class=\"image_teaser module\">\n      <div class=\"grid_layout\">\n       <header>\n        <h1 class=\"module_title\">\n        </h1>\n       </header>\n       <ul class=\"module_gallery gallery_list\">\n        <li class=\"slide\">\n         <div class=\"image_container\">\n          <a href=\"http://photojournal.jpl.nasa.gov/\">\n           <img alt=\"jpl photojournal\" class=\"thumb\" src=\"/assets/images/content/tmp/images/jpl_photojournal(3x1).jpg\"/>\n          </a>\n         </div>\n         <div class=\"content_title\">\n          <a href=\"http://photojournal.jpl.nasa.gov/\">\n           JPL Photojournal\n          </a>\n         </div>\n         <div class=\"article_teaser_body\">\n          Access to the full library of publicly released images from various Solar System exploration programs\n         </div>\n        </li>\n        <li class=\"slide\">\n         <div class=\"image_container\">\n          <a href=\"http://www.nasa.gov/multimedia/imagegallery/\">\n           <img alt=\"Great images in NASA\" class=\"thumb\" src=\"/assets/images/content/tmp/images/nasa_images(3x1).jpg\"/>\n          </a>\n         </div>\n         <div class=\"content_title\">\n          <a href=\"http://www.nasa.gov/multimedia/imagegallery/\">\n           Great images in NASA\n          </a>\n         </div>\n         <div class=\"article_teaser_body\">\n          A selection of the best-known images from a half-century of exploration and discovery\n         </div>\n        </li>\n       </ul>\n      </div>\n     </section>\n     <section class=\"multi_teaser module\">\n      <div class=\"grid_layout\">\n       <header>\n        <h1 class=\"module_title\">\n         You Might Also Like\n        </h1>\n       </header>\n       <ul class=\"module_gallery gallery_list\">\n        <li class=\"slide\">\n         <a href=\"//www.jpl.nasa.gov/news/news.php?feature=7638\">\n          <div class=\"image_and_description_container\">\n           <div class=\"rollover_description\">\n            The Mars mission has learned to meet new challenges while working remotely.\n            <div class=\"overlay_arrow\">\n             <img alt=\"more arrow\" src=\"/assets/images/overlay-arrow.png\"/>\n            </div>\n           </div>\n           <img alt=\"Members of NASA's Curiosity Mars rover mission team\" src=\"//imagecache.jpl.nasa.gov/images/640x350/PIA23773-16-640x350.jpg\"/>\n          </div>\n          <div class=\"content_title\">\n           NASA's Curiosity Keeps Rolling As Team Operates Rover From Home\n          </div>\n         </a>\n        </li>\n        <li class=\"slide\">\n         <a href=\"//www.jpl.nasa.gov/news/news.php?feature=7636\">\n          <div class=\"image_and_description_container\">\n           <div class=\"rollover_description\">\n            The team also fueled the rover's sky crane to get ready for this summer's history-making launch.\n            <div class=\"overlay_arrow\">\n             <img alt=\"more arrow\" src=\"/assets/images/overlay-arrow.png\"/>\n            </div>\n           </div>\n           <img alt=\"Mars Helicopter and its Mars Helicopter Delivery System\" src=\"//imagecache.jpl.nasa.gov/images/640x350/PIA23823-16-640x350.jpg\"/>\n          </div>\n          <div class=\"content_title\">\n           Mars Helicopter Attached to NASA's Perseverance Rover\n          </div>\n         </a>\n        </li>\n        <li class=\"slide\">\n         <a href=\"//www.jpl.nasa.gov/news/news.php?feature=7634\">\n          <div class=\"image_and_description_container\">\n           <div class=\"rollover_description\">\n            A new JPL-led challenge is seeking ideas for scientific instruments that could fit inside a tiny payload no bigger than a bar of soap.\n            <div class=\"overlay_arrow\">\n             <img alt=\"more arrow\" src=\"/assets/images/overlay-arrow.png\"/>\n            </div>\n           </div>\n           <img alt=\"Miniaturized Moon rover\" src=\"//imagecache.jpl.nasa.gov/images/640x350/minipayload20200409-16-640x350.jpg\"/>\n          </div>\n          <div class=\"content_title\">\n           Help Pave the Way for Artemis: Send NASA Your Mini Moon Payload Designs\n          </div>\n         </a>\n        </li>\n       </ul>\n       <footer>\n        <a class=\"outline_button dark\" href=\"/news\">\n         more news\n        </a>\n       </footer>\n      </div>\n     </section>\n     <!-- END CONTENT -->\n     <script src=\"/Scripts/custom_detail.js\" type=\"text/javascript\">\n     </script>\n     <!-- START FOOTER: \"DEFAULT\" -->\n    </div>\n    <footer class=\"clearfix\" id=\"site_footer\">\n     <section class=\"upper_footer\">\n      <div class=\"grid_layout\">\n       <div class=\"footer_newsletter\">\n        <h2>\n         Get the Newsletter\n        </h2>\n        <form action=\"/signup/index.php\" class=\"submit_newsletter\" method=\"post\">\n         <input class=\"email_field\" name=\"email_field\" onblur=\"this.placeholder = 'enter email address'\" onfocus=\"this.placeholder = ''\" placeholder=\"enter email address\" type=\"email\" value=\"\"/>\n         <input class=\"email_submit\" type=\"submit\" value=\"\"/>\n        </form>\n       </div>\n       <div class=\"gradient_line_divider\">\n       </div>\n       <div class=\"share\">\n        <h2>\n         Follow JPL\n        </h2>\n        <div class=\"social_icons\">\n         <!-- AddThis Button BEGIN -->\n         <div class=\"addthis_toolbox addthis_default_style addthis_32x32_style\">\n          <a addthis:userid=\"NASAJPL\" class=\"addthis_button_facebook_follow icon\">\n          </a>\n          <a addthis:userid=\"NASAJPL\" class=\"addthis_button_twitter_follow icon\">\n          </a>\n          <a addthis:userid=\"JPLnews\" class=\"addthis_button_youtube_follow icon\">\n          </a>\n          <a addthis:userid=\"nasajpl\" class=\"addthis_button_instagram_follow icon\">\n          </a>\n          <a class=\"icon all_icon\" href=\"/social\">\n           <span>\n            All\n           </span>\n          </a>\n         </div>\n         <script>\n          addthis_loader.init(\"//s7.addthis.com/js/300/addthis_widget.js#pubid=ra-5429eeee4e460927\", {follow: true})\n         </script>\n        </div>\n       </div>\n      </div>\n      <div class=\"gradient_line\">\n      </div>\n     </section>\n     <section class=\"sitemap\">\n      <div class=\"grid_layout\">\n       <div class=\"sitemap_directory\">\n        <div class=\"sitemap_block\">\n         <div class=\"footer_sitemap_item\">\n          <h3 class=\"sitemap_title\">\n           about JPL\n          </h3>\n          <ul class=\"subnav\">\n           <li>\n            <a href=\"/about/\">\n             About JPL\n            </a>\n           </li>\n           <li>\n            <a href=\"https://www.jpl.nasa.gov/jpl2025/vision/\">\n             JPL Vision\n            </a>\n           </li>\n           <li>\n            <a href=\"/about/exec.php\">\n             Executive Council\n            </a>\n           </li>\n           <li>\n            <a href=\"/about/history.php\">\n             History\n            </a>\n           </li>\n           <li>\n            <a href=\"/about/reports.php\">\n             Annual Reports\n            </a>\n           </li>\n           <li>\n            <a href=\"/contact_JPL.php\">\n             Contact Us\n            </a>\n           </li>\n           <li>\n            <a href=\"/opportunities/\">\n             Opportunities\n            </a>\n           </li>\n           <li>\n            <a href=\"https://thejplstore.com\" target=\"_blank\">\n             JPL Online Store\n            </a>\n           </li>\n           <li>\n            <a href=\"/acquisition/\">\n             Doing Business with JPL\n            </a>\n           </li>\n          </ul>\n         </div>\n         <div class=\"footer_sitemap_item\">\n          <h3 class=\"sitemap_title\">\n           missions\n          </h3>\n          <ul class=\"subnav\">\n           <li>\n            <a href=\"/missions/?type=current\">\n             Current\n            </a>\n           </li>\n           <li>\n            <a href=\"/missions/?type=past\">\n             Past\n            </a>\n           </li>\n           <li>\n            <a href=\"/missions/?type=future\">\n             Future\n            </a>\n           </li>\n           <li>\n            <a href=\"/missions/?type=proposed\">\n             Proposed\n            </a>\n           </li>\n           <li>\n            <a href=\"/missions\">\n             All\n            </a>\n           </li>\n          </ul>\n         </div>\n        </div>\n        <div class=\"sitemap_block\">\n         <div class=\"footer_sitemap_item\">\n          <h3 class=\"sitemap_title\">\n           education\n          </h3>\n          <ul class=\"subnav\">\n           <li>\n            <a href=\"/edu/intern/\">\n             Intern\n            </a>\n           </li>\n           <li>\n            <a href=\"/edu/learn/\">\n             Learn\n            </a>\n           </li>\n           <li>\n            <a href=\"/edu/teach/\">\n             Teach\n            </a>\n           </li>\n           <li>\n            <a href=\"/edu/news/\">\n             News\n            </a>\n           </li>\n           <li>\n            <a href=\"/edu/events/\">\n             Events\n            </a>\n           </li>\n          </ul>\n         </div>\n         <div class=\"footer_sitemap_item\">\n          <h3 class=\"sitemap_title\">\n           news\n          </h3>\n          <ul class=\"subnav\">\n           <li>\n            <a href=\"/news\">\n             Latest News\n            </a>\n           </li>\n           <li>\n            <a href=\"/news/presskits.php\">\n             Press Kits\n            </a>\n           </li>\n           <li>\n            <a href=\"/news/factsheets.php\">\n             Fact Sheets\n            </a>\n           </li>\n           <li>\n            <a href=\"/news/mediainformation.php\">\n             Media Information\n            </a>\n           </li>\n           <li>\n            <a href=\"/universe/\">\n             Universe Newspaper\n            </a>\n           </li>\n          </ul>\n         </div>\n         <div class=\"footer_sitemap_item\">\n          <h3 class=\"sitemap_title\">\n           public events\n          </h3>\n          <ul class=\"subnav\">\n           <li>\n            <a href=\"/events/\">\n             Overview\n            </a>\n           </li>\n           <li>\n            <a href=\"/events/tours/views/\">\n             Tours\n            </a>\n           </li>\n           <li>\n            <a href=\"/events/lectures.php\">\n             Lecture Series\n            </a>\n           </li>\n           <li>\n            <a href=\"/events/speakers-bureau.php\">\n             Speakers Bureau\n            </a>\n           </li>\n           <li>\n            <a href=\"/events/team-competitions.php\">\n             Team Competitions\n            </a>\n           </li>\n           <li>\n            <a href=\"/events/special-events.php\">\n             Special Events\n            </a>\n           </li>\n          </ul>\n         </div>\n        </div>\n        <div class=\"sitemap_block\">\n         <div class=\"footer_sitemap_item\">\n          <h3 class=\"sitemap_title\">\n           Our Sites\n          </h3>\n          <ul class=\"subnav\">\n           <li>\n            <a href=\"/asteroidwatch/\">\n             Asteroid Watch\n            </a>\n           </li>\n           <li>\n            <a href=\"https://solarsystem.nasa.gov/basics/\" target=\"_blank\">\n             Basics of Spaceflight\n            </a>\n           </li>\n           <li>\n            <a href=\"https://saturn.jpl.nasa.gov/index.cfm\">\n             Cassini - Mission to Saturn\n            </a>\n           </li>\n           <li>\n            <a href=\"https://climatekids.nasa.gov/index.cfm\">\n             Climate Kids\n            </a>\n           </li>\n           <li>\n            <a href=\"https://climate.nasa.gov\">\n             Earth / Global Climate Change\n            </a>\n           </li>\n           <li>\n            <a href=\"https://planetquest.jpl.nasa.gov\">\n             Exoplanet Exploration\n            </a>\n           </li>\n           <li>\n            <a href=\"/missions/juno/\">\n             Juno - Mission to Jupiter\n            </a>\n           </li>\n           <li>\n            <a href=\"https://mars.nasa.gov/\">\n             Mars Exploration\n            </a>\n           </li>\n           <li>\n            <a href=\"https://scienceandtechnology.jpl.nasa.gov/\">\n             Science and Technology\n            </a>\n           </li>\n           <li>\n            <a href=\"https://solarsystem.nasa.gov/\">\n             Solar System Exploration\n            </a>\n           </li>\n           <li>\n            <a href=\"https://spaceplace.nasa.gov/\">\n             Space Place\n            </a>\n           </li>\n           <li>\n            <a href=\"https://eyes.nasa.gov/\">\n             NASA's Eyes\n            </a>\n           </li>\n           <li>\n            <a href=\"https://www.spitzer.caltech.edu/\">\n             Spitzer Space Telescope\n            </a>\n           </li>\n           <li>\n            <a href=\"https://voyager.jpl.nasa.gov/\">\n             Voyager Interstellar Mission\n            </a>\n           </li>\n          </ul>\n         </div>\n         <div class=\"footer_sitemap_item\">\n          <h3 class=\"sitemap_title\">\n           galleries\n          </h3>\n          <ul class=\"subnav\">\n           <li>\n            <a href=\"/spaceimages/\">\n             JPL Space Images\n            </a>\n           </li>\n           <li>\n            <a href=\"/video/\">\n             Videos\n            </a>\n           </li>\n           <li>\n            <a href=\"/infographics/\">\n             Infographics\n            </a>\n           </li>\n           <li>\n            <a href=\"https://photojournal.jpl.nasa.gov/\">\n             Photojournal\n            </a>\n           </li>\n           <li>\n            <a href=\"http://www.nasaimages.org/\">\n             NASA Images\n            </a>\n           </li>\n           <li>\n            <a href=\"/apps/\">\n             Mobile Apps\n            </a>\n           </li>\n          </ul>\n         </div>\n        </div>\n        <div class=\"sitemap_block\">\n         <div class=\"footer_sitemap_item\">\n          <h3 class=\"sitemap_title\">\n           Follow JPL\n          </h3>\n          <ul class=\"subnav\">\n           <li>\n            <a href=\"/signup/\">\n             Newsletter\n            </a>\n           </li>\n           <li>\n            <a href=\"https://www.facebook.com/NASAJPL\">\n             Facebook\n            </a>\n           </li>\n           <li>\n            <a href=\"http://twitter.com/NASAJPL\">\n             Twitter\n            </a>\n           </li>\n           <li>\n            <a href=\"http://www.youtube.com/user/JPLnews\">\n             YouTube\n            </a>\n           </li>\n           <li>\n            <a href=\"http://www.flickr.com/photos/nasa-jpl\">\n             Flickr\n            </a>\n           </li>\n           <li>\n            <a href=\"http://instagram.com/nasajpl\">\n             Instagram\n            </a>\n           </li>\n           <li>\n            <a href=\"https://www.linkedin.com/company/2004/\">\n             LinkedIn\n            </a>\n           </li>\n           <li>\n            <a href=\"http://itunes.apple.com/podcast/hd-nasas-jet-propulsion-laboratory/id262254981\">\n             iTunes\n            </a>\n           </li>\n           <li>\n            <a href=\"http://www.ustream.tv/nasajpl\">\n             UStream\n            </a>\n           </li>\n           <li>\n            <a href=\"/rss/\">\n             RSS\n            </a>\n           </li>\n           <li>\n            <a href=\"http://blogs.jpl.nasa.gov\">\n             Blog\n            </a>\n           </li>\n           <li>\n            <a href=\"/onthego/\">\n             Mobile\n            </a>\n           </li>\n           <li>\n            <a href=\"/social/\">\n             All Social Media\n            </a>\n           </li>\n          </ul>\n         </div>\n         <div class=\"footer_sitemap_item\">\n          <h3 class=\"sitemap_title\">\n           NASA\n          </h3>\n          <ul class=\"subnav\">\n           <li>\n            <a href=\"http://jplwater.nasa.gov\">\n             NASA Water Cleanup\n            </a>\n           </li>\n           <li>\n            <a href=\"http://www.hq.nasa.gov/office/pao/FOIA/agency/\">\n             FOIA\n            </a>\n           </li>\n          </ul>\n         </div>\n        </div>\n       </div>\n      </div>\n      <div class=\"gradient_line\">\n      </div>\n     </section>\n     <section class=\"lower_footer\">\n      <div class=\"nav_container\">\n       <nav>\n        <ul>\n         <li>\n          <a href=\"http://www.nasa.gov/\" target=\"_blank\">\n           NASA\n          </a>\n         </li>\n         |\n         <li>\n          <a href=\"http://www.caltech.edu/\" target=\"_blank\">\n           Caltech\n          </a>\n         </li>\n         |\n         <li>\n          <a href=\"/privacy\">\n           Privacy\n          </a>\n         </li>\n         |\n         <li>\n          <a href=\"/imagepolicy\">\n           Image Policy\n          </a>\n         </li>\n         |\n         <li>\n          <a href=\"/faq.php\">\n           FAQ\n          </a>\n         </li>\n         |\n         <li>\n          <a href=\"/contact_JPL.php\">\n           Feedback\n          </a>\n         </li>\n        </ul>\n       </nav>\n      </div>\n      <div class=\"credits\">\n       <span class=\"credits_manager\">\n        Site Manager: Veronica McGregor\n       </span>\n       <span class=\"credits_webmaster\">\n        Site Editors: Tony Greicius, Randal Jackson\n       </span>\n      </div>\n     </section>\n    </footer>\n   </div>\n  </div>\n  <script src=\"/assets/javascripts/vendor/prefixfree.js\" type=\"text/javascript\">\n  </script>\n  <script src=\"/assets/javascripts/vendor/prefixfree.jquery.js\" type=\"text/javascript\">\n  </script>\n  <script id=\"_fed_an_ua_tag\" src=\"https://dap.digitalgov.gov/Universal-Federated-Analytics-Min.js?agency=NASA&amp;pua=UA-45212297-1&amp;subagency=JPL&amp;dclink=true&amp;sp=search,s,q&amp;sdor=false&amp;exts=tif,tiff\" type=\"text/javascript\">\n  </script>\n  <script type=\"text/javascript\">\n   setTimeout(function(){var a=document.createElement(\"script\");\nvar b=document.getElementsByTagName(\"script\")[0];\na.src=document.location.protocol+\"//script.crazyegg.com/pages/scripts/0025/5267.js?\"+Math.floor(new Date().getTime()/3600000);\na.async=true;a.type=\"text/javascript\";b.parentNode.insertBefore(a,b)}, 1);\n  </script>\n </body>\n <!-- END FOOTER: \"DEFAULT\" -->\n</html>\n\n"
    }
   ],
   "source": [
    "# Save JPL page data into Soup\n",
    "jpl_soup = bs(response2.text, \"html.parser\")\n",
    "print(jpl_soup.prettify())"
   ]
  },
  {
   "cell_type": "code",
   "execution_count": 83,
   "metadata": {},
   "outputs": [
    {
     "output_type": "execute_result",
     "data": {
      "text/plain": "<div class=\"carousel_container\">\n<div class=\"carousel_items\">\n<article alt=\"Young Stars in Their Baby Blanket of Dust\" class=\"carousel_item\" style=\"background-image: url('/spaceimages/images/wallpaper/PIA10181-1920x1200.jpg');\">\n<div class=\"default floating_text_area ms-layer\">\n<h2 class=\"category_title\">\n</h2>\n<h2 class=\"brand_title\">\n\t\t\t\t  FEATURED IMAGE\n\t\t\t\t</h2>\n<h1 class=\"media_feature_title\">\n\t\t\t\t  Young Stars in Their Baby Blanket of Dust\t\t\t\t</h1>\n<div class=\"description\">\n</div>\n<footer>\n<a class=\"button fancybox\" data-description=\"Newborn stars peek out from beneath their natal blanket of dust in this dynamic image of the Rho Ophiuchi dark cloud from NASA's Spitzer Space Telescope.\" data-fancybox-group=\"images\" data-fancybox-href=\"/spaceimages/images/mediumsize/PIA10181_ip.jpg\" data-link=\"/spaceimages/details.php?id=PIA10181\" data-title=\"Young Stars in Their Baby Blanket of Dust\" id=\"full_image\">\n\t\t\t\t\tFULL IMAGE\n\t\t\t\t  </a>\n</footer>\n</div>\n<div class=\"gradient_container_top\"></div>\n<div class=\"gradient_container_bottom\"></div>\n</article>\n</div>\n</div>"
     },
     "metadata": {},
     "execution_count": 83
    }
   ],
   "source": [
    "# Filter results to find featured image data\n",
    "jpl_results = jpl_soup.find('div', class_=\"carousel_container\")\n",
    "jpl_results"
   ]
  },
  {
   "cell_type": "code",
   "execution_count": 91,
   "metadata": {},
   "outputs": [
    {
     "output_type": "execute_result",
     "data": {
      "text/plain": "<a class=\"button fancybox\" data-description=\"Newborn stars peek out from beneath their natal blanket of dust in this dynamic image of the Rho Ophiuchi dark cloud from NASA's Spitzer Space Telescope.\" data-fancybox-group=\"images\" data-fancybox-href=\"/spaceimages/images/mediumsize/PIA10181_ip.jpg\" data-link=\"/spaceimages/details.php?id=PIA10181\" data-title=\"Young Stars in Their Baby Blanket of Dust\" id=\"full_image\">\n\t\t\t\t\tFULL IMAGE\n\t\t\t\t  </a>"
     },
     "metadata": {},
     "execution_count": 91
    }
   ],
   "source": [
    "# Filter results to url\n",
    "featured_image = jpl_results.find(\"a\")\n",
    "featured_image"
   ]
  },
  {
   "cell_type": "code",
   "execution_count": 92,
   "metadata": {},
   "outputs": [
    {
     "output_type": "execute_result",
     "data": {
      "text/plain": "'/spaceimages/images/mediumsize/PIA10181_ip.jpg'"
     },
     "metadata": {},
     "execution_count": 92
    }
   ],
   "source": [
    "# Scrape end of url for featured image\n",
    "url_end = featured_image.get(\"data-fancybox-href\")\n",
    "url_end"
   ]
  },
  {
   "cell_type": "code",
   "execution_count": 96,
   "metadata": {},
   "outputs": [
    {
     "output_type": "execute_result",
     "data": {
      "text/plain": "'https://www.jpl.nasa.gov/spaceimages/?search=&category=Mars/spaceimages/images/mediumsize/PIA10181_ip.jpg'"
     },
     "metadata": {},
     "execution_count": 96
    }
   ],
   "source": [
    "# Create variable to hold whole url\n",
    "featured_image_url = f\"{url2}{url_end}\"\n",
    "featured_image_url"
   ]
  },
  {
   "cell_type": "markdown",
   "metadata": {},
   "source": [
    "# Latest Mars Weather Tweet #"
   ]
  },
  {
   "cell_type": "code",
   "execution_count": 3,
   "metadata": {},
   "outputs": [],
   "source": [
    "# Retrieve Mars Weather Twitter page with Chromedriver\n",
    "url3 = 'https://twitter.com/marswxreport?lang=en'\n",
    "driver = webdriver.Chrome()\n",
    "driver.get(url3)\n",
    "time.sleep(3)"
   ]
  },
  {
   "cell_type": "code",
   "execution_count": 4,
   "metadata": {},
   "outputs": [
    {
     "output_type": "stream",
     "name": "stdout",
     "text": "InSight sol 501 (2020-04-24) low -93.5ºC (-136.2ºF) high -4.3ºC (24.3ºF)\nwinds from the SW at 5.0 m/s (11.3 mph) gusting to 15.8 m/s (35.3 mph)\npressure at 6.70 hPa\n"
    }
   ],
   "source": [
    "# Find first tweet\n",
    "tweet_div = driver.find_elements_by_xpath('/html/body/div/div/div/div[2]/main/div/div/div/div/div/div/div/div/div[2]/section/div/div/div[1]/div/div/div/article/div/div[2]/div[2]/div[2]/div[1]/div')\n",
    "\n",
    "for x in tweet_div:\n",
    "    print(x.text)"
   ]
  },
  {
   "cell_type": "markdown",
   "metadata": {},
   "source": [
    "# Mars Facts Scraping With Pandas #"
   ]
  },
  {
   "cell_type": "code",
   "execution_count": 5,
   "metadata": {},
   "outputs": [
    {
     "output_type": "execute_result",
     "data": {
      "text/plain": "                      0                              1\n0  Equatorial Diameter:                       6,792 km\n1       Polar Diameter:                       6,752 km\n2                 Mass:  6.39 × 10^23 kg (0.11 Earths)\n3                Moons:            2 (Phobos & Deimos)\n4       Orbit Distance:       227,943,824 km (1.38 AU)\n5         Orbit Period:           687 days (1.9 years)\n6  Surface Temperature:                   -87 to -5 °C\n7         First Record:              2nd millennium BC\n8          Recorded By:           Egyptian astronomers",
      "text/html": "<div>\n<style scoped>\n    .dataframe tbody tr th:only-of-type {\n        vertical-align: middle;\n    }\n\n    .dataframe tbody tr th {\n        vertical-align: top;\n    }\n\n    .dataframe thead th {\n        text-align: right;\n    }\n</style>\n<table border=\"1\" class=\"dataframe\">\n  <thead>\n    <tr style=\"text-align: right;\">\n      <th></th>\n      <th>0</th>\n      <th>1</th>\n    </tr>\n  </thead>\n  <tbody>\n    <tr>\n      <th>0</th>\n      <td>Equatorial Diameter:</td>\n      <td>6,792 km</td>\n    </tr>\n    <tr>\n      <th>1</th>\n      <td>Polar Diameter:</td>\n      <td>6,752 km</td>\n    </tr>\n    <tr>\n      <th>2</th>\n      <td>Mass:</td>\n      <td>6.39 × 10^23 kg (0.11 Earths)</td>\n    </tr>\n    <tr>\n      <th>3</th>\n      <td>Moons:</td>\n      <td>2 (Phobos &amp; Deimos)</td>\n    </tr>\n    <tr>\n      <th>4</th>\n      <td>Orbit Distance:</td>\n      <td>227,943,824 km (1.38 AU)</td>\n    </tr>\n    <tr>\n      <th>5</th>\n      <td>Orbit Period:</td>\n      <td>687 days (1.9 years)</td>\n    </tr>\n    <tr>\n      <th>6</th>\n      <td>Surface Temperature:</td>\n      <td>-87 to -5 °C</td>\n    </tr>\n    <tr>\n      <th>7</th>\n      <td>First Record:</td>\n      <td>2nd millennium BC</td>\n    </tr>\n    <tr>\n      <th>8</th>\n      <td>Recorded By:</td>\n      <td>Egyptian astronomers</td>\n    </tr>\n  </tbody>\n</table>\n</div>"
     },
     "metadata": {},
     "execution_count": 5
    }
   ],
   "source": [
    "# Import url with pandas\n",
    "url4 = 'https://space-facts.com/mars/'\n",
    "table = pd.read_html(url4)\n",
    "table[0]"
   ]
  },
  {
   "cell_type": "code",
   "execution_count": 23,
   "metadata": {},
   "outputs": [
    {
     "output_type": "execute_result",
     "data": {
      "text/plain": "                      0                              1\n0  Equatorial Diameter:                       6,792 km\n1       Polar Diameter:                       6,752 km\n2                 Mass:  6.39 × 10^23 kg (0.11 Earths)\n3                Moons:            2 (Phobos & Deimos)\n4       Orbit Distance:       227,943,824 km (1.38 AU)\n5         Orbit Period:           687 days (1.9 years)\n6  Surface Temperature:                   -87 to -5 °C\n7         First Record:              2nd millennium BC\n8          Recorded By:           Egyptian astronomers",
      "text/html": "<div>\n<style scoped>\n    .dataframe tbody tr th:only-of-type {\n        vertical-align: middle;\n    }\n\n    .dataframe tbody tr th {\n        vertical-align: top;\n    }\n\n    .dataframe thead th {\n        text-align: right;\n    }\n</style>\n<table border=\"1\" class=\"dataframe\">\n  <thead>\n    <tr style=\"text-align: right;\">\n      <th></th>\n      <th>0</th>\n      <th>1</th>\n    </tr>\n  </thead>\n  <tbody>\n    <tr>\n      <th>0</th>\n      <td>Equatorial Diameter:</td>\n      <td>6,792 km</td>\n    </tr>\n    <tr>\n      <th>1</th>\n      <td>Polar Diameter:</td>\n      <td>6,752 km</td>\n    </tr>\n    <tr>\n      <th>2</th>\n      <td>Mass:</td>\n      <td>6.39 × 10^23 kg (0.11 Earths)</td>\n    </tr>\n    <tr>\n      <th>3</th>\n      <td>Moons:</td>\n      <td>2 (Phobos &amp; Deimos)</td>\n    </tr>\n    <tr>\n      <th>4</th>\n      <td>Orbit Distance:</td>\n      <td>227,943,824 km (1.38 AU)</td>\n    </tr>\n    <tr>\n      <th>5</th>\n      <td>Orbit Period:</td>\n      <td>687 days (1.9 years)</td>\n    </tr>\n    <tr>\n      <th>6</th>\n      <td>Surface Temperature:</td>\n      <td>-87 to -5 °C</td>\n    </tr>\n    <tr>\n      <th>7</th>\n      <td>First Record:</td>\n      <td>2nd millennium BC</td>\n    </tr>\n    <tr>\n      <th>8</th>\n      <td>Recorded By:</td>\n      <td>Egyptian astronomers</td>\n    </tr>\n  </tbody>\n</table>\n</div>"
     },
     "metadata": {},
     "execution_count": 23
    }
   ],
   "source": [
    "# Convert table to a dataframe\n",
    "df = table[0]\n",
    "df"
   ]
  },
  {
   "cell_type": "code",
   "execution_count": 24,
   "metadata": {},
   "outputs": [
    {
     "output_type": "execute_result",
     "data": {
      "text/plain": "'<table border=\"1\" class=\"dataframe\">\\n  <thead>\\n    <tr style=\"text-align: right;\">\\n      <th></th>\\n      <th>0</th>\\n      <th>1</th>\\n    </tr>\\n  </thead>\\n  <tbody>\\n    <tr>\\n      <th>0</th>\\n      <td>Equatorial Diameter:</td>\\n      <td>6,792 km</td>\\n    </tr>\\n    <tr>\\n      <th>1</th>\\n      <td>Polar Diameter:</td>\\n      <td>6,752 km</td>\\n    </tr>\\n    <tr>\\n      <th>2</th>\\n      <td>Mass:</td>\\n      <td>6.39 × 10^23 kg (0.11 Earths)</td>\\n    </tr>\\n    <tr>\\n      <th>3</th>\\n      <td>Moons:</td>\\n      <td>2 (Phobos &amp; Deimos)</td>\\n    </tr>\\n    <tr>\\n      <th>4</th>\\n      <td>Orbit Distance:</td>\\n      <td>227,943,824 km (1.38 AU)</td>\\n    </tr>\\n    <tr>\\n      <th>5</th>\\n      <td>Orbit Period:</td>\\n      <td>687 days (1.9 years)</td>\\n    </tr>\\n    <tr>\\n      <th>6</th>\\n      <td>Surface Temperature:</td>\\n      <td>-87 to -5 °C</td>\\n    </tr>\\n    <tr>\\n      <th>7</th>\\n      <td>First Record:</td>\\n      <td>2nd millennium BC</td>\\n    </tr>\\n    <tr>\\n      <th>8</th>\\n      <td>Recorded By:</td>\\n      <td>Egyptian astronomers</td>\\n    </tr>\\n  </tbody>\\n</table>'"
     },
     "metadata": {},
     "execution_count": 24
    }
   ],
   "source": [
    "# Generate html table\n",
    "html_table = df.to_html()\n",
    "html_table"
   ]
  },
  {
   "cell_type": "code",
   "execution_count": 26,
   "metadata": {},
   "outputs": [
    {
     "output_type": "execute_result",
     "data": {
      "text/plain": "'<table border=\"1\" class=\"dataframe\">  <thead>    <tr style=\"text-align: right;\">      <th></th>      <th>0</th>      <th>1</th>    </tr>  </thead>  <tbody>    <tr>      <th>0</th>      <td>Equatorial Diameter:</td>      <td>6,792 km</td>    </tr>    <tr>      <th>1</th>      <td>Polar Diameter:</td>      <td>6,752 km</td>    </tr>    <tr>      <th>2</th>      <td>Mass:</td>      <td>6.39 × 10^23 kg (0.11 Earths)</td>    </tr>    <tr>      <th>3</th>      <td>Moons:</td>      <td>2 (Phobos &amp; Deimos)</td>    </tr>    <tr>      <th>4</th>      <td>Orbit Distance:</td>      <td>227,943,824 km (1.38 AU)</td>    </tr>    <tr>      <th>5</th>      <td>Orbit Period:</td>      <td>687 days (1.9 years)</td>    </tr>    <tr>      <th>6</th>      <td>Surface Temperature:</td>      <td>-87 to -5 °C</td>    </tr>    <tr>      <th>7</th>      <td>First Record:</td>      <td>2nd millennium BC</td>    </tr>    <tr>      <th>8</th>      <td>Recorded By:</td>      <td>Egyptian astronomers</td>    </tr>  </tbody></table>'"
     },
     "metadata": {},
     "execution_count": 26
    }
   ],
   "source": [
    "# Strip newlines\n",
    "table_stripped = html_table.replace('\\n', '')\n",
    "table_stripped"
   ]
  },
  {
   "cell_type": "markdown",
   "metadata": {},
   "source": [
    "# Mars Hemispheres #"
   ]
  },
  {
   "cell_type": "code",
   "execution_count": 4,
   "metadata": {},
   "outputs": [],
   "source": [
    "# Retrieve Mars Hemispheres image urls with 'get requests' module\n",
    "url5 = 'https://astrogeology.usgs.gov/search/results?q=hemisphere+enhanced&k1=target&v1=Mars'\n",
    "response5 = requests.get(url5)"
   ]
  },
  {
   "cell_type": "code",
   "execution_count": 5,
   "metadata": {},
   "outputs": [
    {
     "output_type": "stream",
     "name": "stdout",
     "text": "<!DOCTYPE html>\n<html lang=\"en\">\n <head>\n  <link href=\"//ajax.googleapis.com/ajax/libs/jqueryui/1.11.3/themes/smoothness/jquery-ui.css\" rel=\"stylesheet\" type=\"text/css\"/>\n  <title>\n   Astropedia Search Results | USGS Astrogeology Science Center\n  </title>\n  <meta content=\"USGS Astrogeology Science Center Astropedia search results.\" name=\"description\"/>\n  <meta content=\"USGS,Astrogeology Science Center,Cartography,Geology,Space,Geological Survey,Mapping\" name=\"keywords\"/>\n  <meta content=\"IE=edge\" http-equiv=\"X-UA-Compatible\"/>\n  <meta content=\"text/html; charset=utf-8\" http-equiv=\"Content-Type\"/>\n  <meta content=\"width=device-width, initial-scale=1, maximum-scale=1\" name=\"viewport\"/>\n  <meta content=\"x61hXXVj7wtfBSNOPnTftajMsZ5yB2W-qRoyr7GtOKM\" name=\"google-site-verification\"/>\n  <!--<link rel=\"stylesheet\" href=\"http://fonts.googleapis.com/css?family=Open+Sans:400italic,400,bold\"/>-->\n  <link href=\"/css/main.css\" media=\"screen\" rel=\"stylesheet\"/>\n  <link href=\"/css/print.css\" media=\"print\" rel=\"stylesheet\"/>\n  <!--[if lt IE 9]>\n\t\t\t<script src=\"http://html5shiv.googlecode.com/svn/trunk/html5.js\"></script>\n\t\t\t<script src=\"/js/respond.min.js\"></script>\n\t\t\t<link rel=\"stylesheet\" type=\"text/css\" href=\"/css/ie.css\"/>\n                        <script>\n                          document.createElement('header');\n                          document.createElement('nav');\n                          document.createElement('section');\n                          document.createElement('article');\n                          document.createElement('aside');\n                          document.createElement('footer');\n                          document.createElement('hgroup');\n                        </script>\n                  <![endif]-->\n  <link href=\"/favicon.ico\" rel=\"icon\" type=\"image/x-ico\"/>\n </head>\n <body id=\"results\">\n  <header>\n   <!--\n\t\t\t<h1>Astrogeology Science Center</h1>\n-->\n   <a href=\"https://www.usgs.gov/centers/astrogeo-sc\" style=\"float:right;margin-top:10px;\" target=\"_blank\">\n    <img alt=\"USGS: Science for a Changing World\" class=\"logo\" height=\"60\" src=\"/images/usgs_logo_main_2x.png\"/>\n   </a>\n   <a href=\"https://nasa.gov\" style=\"float:right;margin-top:5px;margin-right:20px;\" target=\"_blank\">\n    <img alt=\"NASA\" class=\"logo\" height=\"65\" src=\"/images/logos/nasa-logo-web-med.png\"/>\n   </a>\n   <a href=\"https://www.usgs.gov/centers/astrogeology-science-center/science/pds-cartography-and-imaging-sciences-node-usgs\" style=\"float:right;margin-top:5px;margin-right: 10px;\" target=\"_blank\">\n    <img alt=\"PDS Cartography and Imaging Science Node\" class=\"logo\" height=\"65\" src=\"/images/pds_logo-invisible-web.png\"/>\n   </a>\n  </header>\n  <div class=\"wrapper\">\n   <!--\n\t\t\t<nav>\n\t\t\t\t<a id=\"nav-toggle\" href=\"#\" title=\"Navigation Menu\">Menu</a>\n<ul class=\"dropdown dropdown-horizontal\" id=\"yw0\">\n<li><a href=\"/\">Home</a></li>\n<li><a href=\"/about\">About</a>\n<ul>\n<li><a href=\"/about/careers\">Careers</a></li>\n<li><a href=\"/contact\">Contact</a></li>\n<li><a href=\"/about/events\">Events</a></li>\n<li><a href=\"/site/glossary\">Glossary</a></li>\n<li><a href=\"/about/mission\">Mission</a></li>\n<li><a href=\"/news\">News</a></li>\n<li><a href=\"/people\">People</a></li>\n<li><a href=\"/about/using-our-images\">Using Our Images</a></li>\n<li><a href=\"/about/visitors\">Visitors</a></li>\n</ul>\n</li>\n<li><a href=\"/facilities\">Labs / Facilities</a>\n<ul>\n<li><a href=\"/facilities/flynn-creek-crater-sample-collection\">Flynn Creek Crater Sample Collection</a></li>\n<li><a href=\"http://www.moon-cal.org\">Lunar Calibration Project</a></li>\n<li><a href=\"/facilities/meteor-crater-sample-collection\">Meteor Crater Sample Collection</a></li>\n<li><a href=\"/facilities/mrctr\">MRCTR GIS Lab</a></li>\n<li><a href=\"/facilities/cartography-and-imaging-sciences-node-of-nasa-planetary-data-system\">PDS Cartography and Imaging Sciences Node</a></li>\n<li><a href=\"/pds/annex\">PDS IMG Annex</a></li>\n<li><a href=\"/facilities/photogrammetry-guest-facility\">Photogrammetry Guest Facility</a></li>\n<li><a href=\"/rpif\">Regional Planetary Information Facility (RPIF)</a></li>\n</ul>\n</li>\n<li><a href=\"/maps\">Maps / Products</a>\n<ul>\n<li><a href=\"/search\">Product Search</a></li>\n<li><a href=\"http://planetarynames.wr.usgs.gov\">Gazetteer of Planetary Nomenclature</a></li>\n<li><a href=\"http://planetarymapping.wr.usgs.gov\">Geologic Mapping Program</a></li>\n<li><a href=\"http://pilot.wr.usgs.gov\">Planetary Image Locator Tool (PILOT)</a></li>\n<li><a href=\"/search/planetary-index\">Planetary Map Index</a></li>\n</ul>\n</li>\n<li><a href=\"/geology\">Missions / Research</a>\n<ul>\n<li><a href=\"/geology/mars-dunes\">Mars Dunes</a></li>\n<li><a href=\"/geology/mars-ice\">Mars Ice</a></li>\n<li><a href=\"/missions\">Mission Support</a></li>\n<li><a href=\"/solar-system\">Solar System</a></li>\n<li><a href=\"/groups\">Working Groups</a></li>\n</ul>\n</li>\n<li><a href=\"/tools\">Tools</a>\n<ul>\n<li><a href=\"http://planetarynames.wr.usgs.gov\">Gazetteer of Planetary Nomenclature</a></li>\n<li><a href=\"http://isis.astrogeology.usgs.gov\">Integrated Software for Imagers and Spectrometers (ISIS)</a></li>\n<li><a href=\"http://astrogeology.usgs.gov/tools/map-a-planet-2\">Map a Planet 2</a></li>\n<li><a href=\"http://pilot.wr.usgs.gov\">Planetary Image Locator Tool (PILOT)</a></li>\n<li><a href=\"http://astrocloud.wr.usgs.gov/\">Projection on the Web (POW)</a></li>\n</ul>\n</li>\n</ul>\t\t\t\t<form id=\"search\" class=\"search\" action=\"/search/results\" method=\"get\">\n\t\t\t\t\t<input type=\"submit\" value=\"\" title=\"Search Astropedia\"/>\n\t\t\t\t\t<input type=\"text\" placeholder=\"Search\" name=\"q\"/>\n\t\t\t\t</form>\n\t\t\t</nav>\n-->\n   <div class=\"container\">\n    <div class=\"widget block bar\">\n     <a href=\"/search\" style=\"float:right;text-decoration:none;\">\n      <img alt=\"Astropedia\" src=\"/images/astropedia/astropedia-logo-main.png\" style=\"width:200px;border:none;float:right;\"/>\n      <div style=\"clear:both;font-size:.8em;float:right;color:#888;\">\n       Lunar and Planetary Cartographic Catalog\n      </div>\n     </a>\n     <div style=\"float:left;height:60px;\">\n     </div>\n    </div>\n    <form action=\"/search/results\" class=\"bar widget block\" id=\"search-bar\">\n     <input name=\"q\" type=\"hidden\" value=\"hemisphere-enhanced\"/>\n     <input name=\"target\" type=\"hidden\" value=\"Mars\"/>\n     <input name=\"__ncforminfo\" type=\"hidden\" value=\"yKA8WuRtMs8hfn8y-g2SgNcIDuiQ5SqWiyl5WOfVL33BxJqSYdNabH3mVnEfc8XmXSGf2IqF1MfHgqkdDelQpXaVE4DO6oWfaIzCdF1D6k5ikSTNnOj_Nw==\"/>\n    </form>\n    <div class=\"full-content\">\n     <section class=\"block\" id=\"results-accordian\">\n      <div class=\"result-list\" data-section=\"product\" id=\"product-section\">\n       <div class=\"accordian\">\n        <h2>\n         Products\n        </h2>\n        <span class=\"count\">\n         4 Results\n        </span>\n        <span class=\"collapse\">\n         Collapse\n        </span>\n       </div>\n       <div class=\"collapsible results\">\n        <div class=\"item\">\n         <a class=\"itemLink product-item\" href=\"/search/map/Mars/Viking/cerberus_enhanced\">\n          <img alt=\"Cerberus Hemisphere Enhanced thumbnail\" class=\"thumb\" src=\"/cache/images/dfaf3849e74bf973b59eb50dab52b583_cerberus_enhanced.tif_thumb.png\"/>\n          <div class=\"description\">\n           <h3>\n            Cerberus Hemisphere Enhanced\n           </h3>\n          </div>\n         </a>\n         <span class=\"subtitle\" style=\"float:left\">\n          image/tiff 21 MB\n         </span>\n         <span class=\"pubDate\" style=\"float:right\">\n         </span>\n         <br/>\n         <p>\n          Mosaic of the Cerberus hemisphere of Mars projected into point perspective, a view similar to that which one would see from a spacecraft. This mosaic is composed of 104 Viking Orbiter images acquired…\n         </p>\n        </div>\n        <!-- end description -->\n       </div>\n       <div class=\"item\">\n        <a class=\"itemLink product-item\" href=\"/search/map/Mars/Viking/schiaparelli_enhanced\">\n         <img alt=\"Schiaparelli Hemisphere Enhanced thumbnail\" class=\"thumb\" src=\"/cache/images/7677c0a006b83871b5a2f66985ab5857_schiaparelli_enhanced.tif_thumb.png\"/>\n         <div class=\"description\">\n          <h3>\n           Schiaparelli Hemisphere Enhanced\n          </h3>\n         </div>\n        </a>\n        <span class=\"subtitle\" style=\"float:left\">\n         image/tiff 35 MB\n        </span>\n        <span class=\"pubDate\" style=\"float:right\">\n        </span>\n        <br/>\n        <p>\n         Mosaic of the Schiaparelli hemisphere of Mars projected into point perspective, a view similar to that which one would see from a spacecraft. The images were acquired in 1980 during early northern…\n        </p>\n       </div>\n       <!-- end description -->\n      </div>\n      <div class=\"item\">\n       <a class=\"itemLink product-item\" href=\"/search/map/Mars/Viking/syrtis_major_enhanced\">\n        <img alt=\"Syrtis Major Hemisphere Enhanced thumbnail\" class=\"thumb\" src=\"/cache/images/aae41197e40d6d4f3ea557f8cfe51d15_syrtis_major_enhanced.tif_thumb.png\"/>\n        <div class=\"description\">\n         <h3>\n          Syrtis Major Hemisphere Enhanced\n         </h3>\n        </div>\n       </a>\n       <span class=\"subtitle\" style=\"float:left\">\n        image/tiff 25 MB\n       </span>\n       <span class=\"pubDate\" style=\"float:right\">\n       </span>\n       <br/>\n       <p>\n        Mosaic of the Syrtis Major hemisphere of Mars projected into point perspective, a view similar to that which one would see from a spacecraft. This mosaic is composed of about 100 red and violet…\n       </p>\n      </div>\n      <!-- end description -->\n     </section>\n    </div>\n    <div class=\"item\">\n     <a class=\"itemLink product-item\" href=\"/search/map/Mars/Viking/valles_marineris_enhanced\">\n      <img alt=\"Valles Marineris Hemisphere Enhanced thumbnail\" class=\"thumb\" src=\"/cache/images/04085d99ec3713883a9a57f42be9c725_valles_marineris_enhanced.tif_thumb.png\"/>\n      <div class=\"description\">\n       <h3>\n        Valles Marineris Hemisphere Enhanced\n       </h3>\n      </div>\n     </a>\n     <span class=\"subtitle\" style=\"float:left\">\n      image/tiff 27 MB\n     </span>\n     <span class=\"pubDate\" style=\"float:right\">\n     </span>\n     <br/>\n     <p>\n      Mosaic of the Valles Marineris hemisphere of Mars projected into point perspective, a view similar to that which one would see from a spacecraft. The distance is 2500 kilometers from the surface of…\n     </p>\n    </div>\n    <!-- end description -->\n   </div>\n   <script>\n    addBases=[];;if(typeof resetLayerSwitcher===\"function\"){resetLayerSwitcher(false)};var productTotal = 4;\n   </script>\n  </div>\n  <!-- end this-section -->\n </body>\n</html>\n<div class=\"icons projects black scroll-wrapper\">\n <div class=\"scroll\">\n  <a class=\"icon\" href=\"http://isis.astrogeology.usgs.gov\" title=\"Integrated Software for Imagers and Spectrometers\">\n   <img alt=\"ISIS Logo\" height=\"112\" src=\"/images/logos/isis_2x.jpg\" width=\"112\">\n    <span class=\"label\">\n     ISIS\n    </span>\n   </img>\n  </a>\n  <a class=\"icon\" href=\"http://planetarynames.wr.usgs.gov\" title=\"Gazetteer of Planetary Nomenclature\">\n   <img alt=\"Nomenclature Logo\" height=\"112\" src=\"/images/logos/nomenclature_2x.jpg\" width=\"112\">\n    <span class=\"label\">\n     Planetary Nomenclature\n    </span>\n   </img>\n  </a>\n  <a class=\"icon\" href=\"https://astrogeology.usgs.gov/tools/map-a-planet-2\" title=\"Map a Planet 2\">\n   <img alt=\"Map-a-Planet Logo\" height=\"112\" src=\"/images/logos/map_a_planet_2x.jpg\" width=\"112\">\n    <span class=\"label\">\n     Map a Planet 2\n    </span>\n   </img>\n  </a>\n  <a class=\"icon\" href=\"https://www.usgs.gov/centers/astrogeo-sc/science/cartography-and-imaging-sciences-node-nasa-planetary-data-system\" title=\"PDS Cartography and Imaging Science Node\">\n   <img alt=\"PDS Logo\" height=\"112\" src=\"/images/pds_logo-black-web.png\">\n    <span class=\"label\">\n     PDS Cartography and Imaging Science Node\n    </span>\n   </img>\n  </a>\n  <!--\n\t\t\t\t\t\t<a title=\"Astropedia Search\" href=\"/search\" class=\"icon\">\n\t\t\t\t\t\t\t<img alt=\"Astropedia Logo\" height=\"112\" width=\"112\" src=\"/images/logos/astropedia_2x.jpg\"/>\n\t\t\t\t\t\t\t<span class=\"label\">Astropedia</span>\n\t\t\t\t\t\t</a>\n-->\n  <a class=\"icon\" href=\"https://www.usgs.gov/centers/astrogeo-sc/science/regional-planetary-image-facility-rpif\" title=\"Regional Planetary Image Facility\">\n   <img alt=\"RPIF Logo\" height=\"112\" src=\"/images/logos/rpif_2x.jpg\" width=\"112\"/>\n   <span class=\"label\">\n    RPIF\n   </span>\n  </a>\n  <a class=\"icon\" href=\"\" title=\"Photogrammetry Guest Facility\">\n   <img alt=\"Photogrammetry Guest Faciltiy Logo\" height=\"112\" src=\"/images/logos/photogrammetry_2x.jpg\" width=\"112\"/>\n   <span class=\"label\">\n    Photogrammetry Guest Facility\n   </span>\n  </a>\n  <a class=\"icon\" href=\"http://pilot.wr.usgs.gov\" title=\"Planetary Image Locator Tool\">\n   <img alt=\"Pilot Logo\" height=\"112\" src=\"/images/logos/pilot_2x.jpg\" width=\"112\"/>\n   <span class=\"label\">\n    PILOT\n   </span>\n  </a>\n  <a class=\"icon\" href=\"https://www.usgs.gov/centers/astrogeo-sc/science/mrctr-gis-lab\" title=\"Mapping, Remote-sensing, Cartography, Technology and Research GIS Lab\">\n   <img alt=\"MRCTR GIS Lab Logo\" height=\"112\" src=\"/images/logos/mrctr_man_2x.png\" width=\"112\"/>\n   <span class=\"label\">\n    MRCTR GIS Lab\n   </span>\n  </a>\n </div>\n</div>\n<footer>\n <div class=\"left\">\n  <a href=\"http://astrogeology.usgs.gov/search\">\n   Search\n  </a>\n  |\n  <a href=\"http://astrogeology.usgs.gov/maps/about\">\n   About\n  </a>\n  |\n  <a href=\"http://astrogeology.usgs.gov/maps/contact\">\n   Contact\n  </a>\n </div>\n <div class=\"right\">\n  <a href=\"https://www.usgs.gov/centers/astrogeo-sc\">\n   USGS Astrogeology Science Center\n  </a>\n </div>\n</footer>\n<!--\n\t\t<div class=\"credit\">\n\t\t\t<small>Background Credits: NASA/USGS</small>\n\t\t</div>\n-->\n<div class=\"page-background\" style=\"\n\t\t\tbackground:url('/images/backgrounds/mars.jpg');\n\t\t\tfilter:progid:DXImageTransform.Microsoft.AlphaImageLoader(\n\t\t\t\tsrc='/images/backgrounds/mars.jpg', sizingMethod='scale');\n\t\t\">\n</div>\n<script type=\"text/javascript\">\n var baseUrl = \"\";\n\n/*\nvar _gaq = _gaq || [];_gaq.push(['_setAccount', 'UA-27613186-1']);_gaq.push(['_trackPageview']);(function() { var ga = document.createElement('script'); ga.type = 'text/javascript'; ga.async = true;ga.src = ('https:' == document.location.protocol ? 'https://ssl' : 'http://www') + '.google-analytics.com/ga.js'; var s = document.getElementsByTagName('script')[0]; s.parentNode.insertBefore(ga, s);})();\n*/\n</script>\n<script src=\"https://ajax.googleapis.com/ajax/libs/jquery/1.11.1/jquery.min.js\" type=\"text/javascript\">\n</script>\n<script src=\"//ajax.googleapis.com/ajax/libs/jqueryui/1.11.3/jquery-ui.min.js\" type=\"text/javascript\">\n</script>\n<script src=\"/js/general.js\" type=\"text/javascript\">\n</script>\n\n"
    }
   ],
   "source": [
    "# Save hemispheres page data into Soup\n",
    "hemi_soup = bs(response5.text, \"html.parser\")\n",
    "print(hemi_soup.prettify())"
   ]
  },
  {
   "cell_type": "code",
   "execution_count": 31,
   "metadata": {},
   "outputs": [
    {
     "output_type": "error",
     "ename": "NameError",
     "evalue": "name 'browser' is not defined",
     "traceback": [
      "\u001b[1;31m---------------------------------------------------------------------------\u001b[0m",
      "\u001b[1;31mNameError\u001b[0m                                 Traceback (most recent call last)",
      "\u001b[1;32m<ipython-input-31-367c1bb365b3>\u001b[0m in \u001b[0;36m<module>\u001b[1;34m\u001b[0m\n\u001b[0;32m      1\u001b[0m \u001b[1;31m# Click on link to full image\u001b[0m\u001b[1;33m\u001b[0m\u001b[1;33m\u001b[0m\u001b[1;33m\u001b[0m\u001b[0m\n\u001b[1;32m----> 2\u001b[1;33m \u001b[0mlink\u001b[0m \u001b[1;33m=\u001b[0m \u001b[0mbrowser\u001b[0m\u001b[1;33m.\u001b[0m\u001b[0mfind_by_css\u001b[0m\u001b[1;33m(\u001b[0m\u001b[1;34m'a.href'\u001b[0m\u001b[1;33m)\u001b[0m\u001b[1;33m\u001b[0m\u001b[1;33m\u001b[0m\u001b[0m\n\u001b[0m\u001b[0;32m      3\u001b[0m \u001b[0mprint\u001b[0m\u001b[1;33m(\u001b[0m\u001b[0mlink\u001b[0m\u001b[1;33m)\u001b[0m\u001b[1;33m\u001b[0m\u001b[1;33m\u001b[0m\u001b[0m\n\u001b[0;32m      4\u001b[0m \u001b[1;33m\u001b[0m\u001b[0m\n\u001b[0;32m      5\u001b[0m \u001b[1;31m#for header in link:\u001b[0m\u001b[1;33m\u001b[0m\u001b[1;33m\u001b[0m\u001b[1;33m\u001b[0m\u001b[0m\n",
      "\u001b[1;31mNameError\u001b[0m: name 'browser' is not defined"
     ]
    }
   ],
   "source": [
    "# Click on link to full image\n",
    "link = hemi_soup.find_by_css('a.href')\n",
    "print(link)\n",
    "\n",
    "#for header in link:\n",
    "#    click = browser.find_by_css(\"a.product-item\").click()\n",
    "#    image_url = browser.find_by_css(class_=\"wide-image\")   \n",
    "#    hemi_img = ('img', class_=\"wide-image\")\n"
   ]
  },
  {
   "cell_type": "code",
   "execution_count": null,
   "metadata": {},
   "outputs": [],
   "source": [
    "for header in link:\n",
    "    click = browser.find_by_css(\"a.product-item\").click()\n",
    "    hemi_img = hemi_soup('img', class_=\"wide-image\")"
   ]
  },
  {
   "cell_type": "code",
   "execution_count": 16,
   "metadata": {},
   "outputs": [
    {
     "output_type": "stream",
     "name": "stdout",
     "text": "<div class=\"item\"><a class=\"itemLink product-item\" href=\"/search/map/Mars/Viking/syrtis_major_enhanced\"><img alt=\"Syrtis Major Hemisphere Enhanced thumbnail\" class=\"thumb\" src=\"/cache/images/aae41197e40d6d4f3ea557f8cfe51d15_syrtis_major_enhanced.tif_thumb.png\"/><div class=\"description\"><h3>Syrtis Major Hemisphere Enhanced</h3></div></a><span class=\"subtitle\" style=\"float:left\">image/tiff 25 MB</span><span class=\"pubDate\" style=\"float:right\"></span><br/><p>Mosaic of the Syrtis Major hemisphere of Mars projected into point perspective, a view similar to that which one would see from a spacecraft. This mosaic is composed of about 100 red and violet…</p></div>\n"
    }
   ],
   "source": [
    "# Filter results to find image url data OLD\n",
    "#hemi_results = hemi_soup.find_all('div', class_=\"item\")\n",
    "#print(hemi_results[2])"
   ]
  },
  {
   "cell_type": "code",
   "execution_count": 26,
   "metadata": {},
   "outputs": [
    {
     "output_type": "stream",
     "name": "stdout",
     "text": "Cerberus Hemisphere\nhttps://astropedia.astrogeology.usgs.gov/download/map.tif\n----------\nSchiaparelli Hemisphere\nhttps://astropedia.astrogeology.usgs.gov/download/map.tif\n----------\nSyrtis Major Hemisphere\nhttps://astropedia.astrogeology.usgs.gov/download/map.tif\n----------\nValles Marineris Hemisphere\nhttps://astropedia.astrogeology.usgs.gov/download/map.tif\n----------\n"
    }
   ],
   "source": [
    "# Set prefix and suffix for each image url\n",
    "base_url = 'https://astropedia.astrogeology.usgs.gov/download/'\n",
    "url_suffix = '.tif'\n",
    "\n",
    "# Set up list to hold final url and hemisphere info\n",
    "hemi_data = []\n",
    "\n",
    "# Loop through results to get hemisphere name\n",
    "for item in hemi_results:\n",
    "    name = item.find('h3').text.rsplit(\" \",1)\n",
    "    hemi = name[0]\n",
    "    print(hemi)\n",
    "    \n",
    "    # Loop through results to get url to add to base url\n",
    "    hemi_href = item.find('a')['href']\n",
    "    href_split = hemi_href.split(\"/\",3)\n",
    "    href = href_split[2]\n",
    "    url = f\"{base_url}{href}{url_suffix}\"\n",
    "    print(url)\n",
    "    print(\"----------\")    \n",
    "\n",
    "    # Save info into a dictionary\n",
    "    hemi_dict = {\n",
    "    \"img_url\": url,\n",
    "    \"title\": hemi\n",
    "    }\n",
    "\n",
    "    hemi_data.append(hemi_dict)"
   ]
  },
  {
   "cell_type": "code",
   "execution_count": 27,
   "metadata": {},
   "outputs": [
    {
     "output_type": "execute_result",
     "data": {
      "text/plain": "[{'img_url': 'https://astropedia.astrogeology.usgs.gov/download/map.tif',\n  'title': 'Cerberus Hemisphere'},\n {'img_url': 'https://astropedia.astrogeology.usgs.gov/download/map.tif',\n  'title': 'Schiaparelli Hemisphere'},\n {'img_url': 'https://astropedia.astrogeology.usgs.gov/download/map.tif',\n  'title': 'Syrtis Major Hemisphere'},\n {'img_url': 'https://astropedia.astrogeology.usgs.gov/download/map.tif',\n  'title': 'Valles Marineris Hemisphere'}]"
     },
     "metadata": {},
     "execution_count": 27
    }
   ],
   "source": [
    "# Check list of dictionaries\n",
    "hemi_data"
   ]
  },
  {
   "cell_type": "code",
   "execution_count": null,
   "metadata": {},
   "outputs": [],
   "source": []
  }
 ],
 "metadata": {
  "language_info": {
   "name": "python",
   "codemirror_mode": {
    "name": "ipython",
    "version": 3
   },
   "version": "3.6.10-final"
  },
  "orig_nbformat": 2,
  "file_extension": ".py",
  "mimetype": "text/x-python",
  "name": "python",
  "npconvert_exporter": "python",
  "pygments_lexer": "ipython3",
  "version": 3,
  "kernelspec": {
   "name": "python37664bitpythondataconda7b76faf93e6a485bb209245349a7d6ad",
   "display_name": "Python 3.7.6 64-bit ('PythonData': conda)"
  }
 },
 "nbformat": 4,
 "nbformat_minor": 2
}